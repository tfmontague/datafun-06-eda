{
 "cells": [
  {
   "cell_type": "markdown",
   "metadata": {},
   "source": [
    "# Project 6 Jupyter Notebook: Exploratory Data Analysis (EDA) on Planets Dataset"
   ]
  },
  {
   "cell_type": "markdown",
   "metadata": {},
   "source": [
    "## 1. Project Summary\n",
    "\n",
    "**Name:** Topaz Montague  \n",
    "**Date:** 2/9/2024  \n",
    "**Purpose:** This notebook presents an initial data story through an exploratory data analysis of the Planets dataset. We will explore planetary characteristics by investigating the distribution of planetary characteristics, such as mass, orbit size, and orbital period."
   ]
  }
 ],
 "metadata": {
  "language_info": {
   "name": "python"
  }
 },
 "nbformat": 4,
 "nbformat_minor": 2
}
